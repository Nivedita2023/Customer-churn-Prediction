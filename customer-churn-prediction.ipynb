{
 "cells": [
  {
   "cell_type": "code",
   "execution_count": null,
   "metadata": {
    "_cell_guid": "b1076dfc-b9ad-4769-8c92-a6c4dae69d19",
    "_uuid": "8f2839f25d086af736a60e9eeb907d3b93b6e0e5",
    "execution": {
     "iopub.execute_input": "2025-03-05T06:26:41.114125Z",
     "iopub.status.busy": "2025-03-05T06:26:41.113851Z",
     "iopub.status.idle": "2025-03-05T06:26:42.340503Z",
     "shell.execute_reply": "2025-03-05T06:26:42.339373Z",
     "shell.execute_reply.started": "2025-03-05T06:26:41.114099Z"
    },
    "trusted": true
   },
   "outputs": [],
   "source": [
    "import numpy as np , matplotlib.pyplot as plt , seaborn as sns\n",
    "import pandas as pd\n",
    "import os\n",
    "for dirname, _, filenames in os.walk('/kaggle/input'):\n",
    "    for filename in filenames:\n",
    "        print(os.path.join(dirname, filename))"
   ]
  },
  {
   "cell_type": "markdown",
   "metadata": {},
   "source": [
    "# Load The Dataset"
   ]
  },
  {
   "cell_type": "code",
   "execution_count": null,
   "metadata": {
    "execution": {
     "iopub.execute_input": "2025-03-05T06:26:42.342507Z",
     "iopub.status.busy": "2025-03-05T06:26:42.342097Z",
     "iopub.status.idle": "2025-03-05T06:26:42.411512Z",
     "shell.execute_reply": "2025-03-05T06:26:42.410502Z",
     "shell.execute_reply.started": "2025-03-05T06:26:42.342457Z"
    },
    "trusted": true
   },
   "outputs": [],
   "source": [
    "df = pd.read_csv('/kaggle/input/sony-research/Data_Science_Challenge.csv')\n",
    "df_copy = df.copy()\n",
    "df.head()"
   ]
  },
  {
   "cell_type": "markdown",
   "metadata": {},
   "source": [
    "* State: The state where a customer comes from\n",
    "* Account length: Number of days a customer has been using services\n",
    "* Area code: The area where a customer comes from\n",
    "* Phone number: The phone number of a customer\n",
    "* International Plan: The status of customer international plan\n",
    "* Voicemail plan: The status of customer voicemail plan\n",
    "* No. vmail msgs: Number of voicemail message sent by a customer\n",
    "* Total day minutes: Total call minutes spent by a customer during day time\n",
    "* Total day calls: Total number of calls made by a customer during day time\n",
    "* Total day charge: Total amount charged to a customer during day time\n",
    "* Total eve minutes: Total call minutes spent by a customer during evening time\n",
    "* Total eve calls: Total number of calls made by a customer during evening time\n",
    "* Total eve charge: Total amount charged to a customer during evening time\n",
    "* Total night minutes: Total call minutes spent by a customer during night time\n",
    "* Total night calls: Total number of calls made by a customer during night time\n",
    "* Total night charge: Total amount charged to a customer during night time\n",
    "* Total intl minutes: Total international call minutes spent by a customer\n",
    "* Total intl calls: Total number of international calls made by a customer\n",
    "* Total int charge: Total international call amount charged to a customer\n",
    "* Customer service calls: Total number of customer service calls made by a customer\n",
    "* churn: Whether a customer is churned or not"
   ]
  },
  {
   "cell_type": "markdown",
   "metadata": {},
   "source": [
    "**Initial Inspection**\n",
    "* Shape\n",
    "* data types\n",
    "* missing values\n",
    "* duplicate values\n",
    "* summary statistics\n",
    "* Outlier detection\n",
    "* Class balance"
   ]
  },
  {
   "cell_type": "markdown",
   "metadata": {},
   "source": [
    "**Shape**"
   ]
  },
  {
   "cell_type": "code",
   "execution_count": null,
   "metadata": {
    "execution": {
     "iopub.execute_input": "2025-03-05T06:26:42.413551Z",
     "iopub.status.busy": "2025-03-05T06:26:42.413193Z",
     "iopub.status.idle": "2025-03-05T06:26:42.420021Z",
     "shell.execute_reply": "2025-03-05T06:26:42.419110Z",
     "shell.execute_reply.started": "2025-03-05T06:26:42.413514Z"
    },
    "trusted": true
   },
   "outputs": [],
   "source": [
    "df.shape"
   ]
  },
  {
   "cell_type": "markdown",
   "metadata": {},
   "source": [
    "**Data Types**"
   ]
  },
  {
   "cell_type": "code",
   "execution_count": null,
   "metadata": {
    "execution": {
     "iopub.execute_input": "2025-03-05T06:26:42.421232Z",
     "iopub.status.busy": "2025-03-05T06:26:42.420971Z",
     "iopub.status.idle": "2025-03-05T06:26:42.453835Z",
     "shell.execute_reply": "2025-03-05T06:26:42.452681Z",
     "shell.execute_reply.started": "2025-03-05T06:26:42.421209Z"
    },
    "trusted": true
   },
   "outputs": [],
   "source": [
    "df.info()"
   ]
  },
  {
   "cell_type": "markdown",
   "metadata": {},
   "source": [
    "**Missing Values**"
   ]
  },
  {
   "cell_type": "code",
   "execution_count": null,
   "metadata": {
    "execution": {
     "iopub.execute_input": "2025-03-05T06:26:42.455275Z",
     "iopub.status.busy": "2025-03-05T06:26:42.454907Z",
     "iopub.status.idle": "2025-03-05T06:26:42.473931Z",
     "shell.execute_reply": "2025-03-05T06:26:42.472840Z",
     "shell.execute_reply.started": "2025-03-05T06:26:42.455237Z"
    },
    "trusted": true
   },
   "outputs": [],
   "source": [
    "df.isna().sum()"
   ]
  },
  {
   "cell_type": "markdown",
   "metadata": {},
   "source": [
    "**Duplicate Values**"
   ]
  },
  {
   "cell_type": "code",
   "execution_count": null,
   "metadata": {
    "execution": {
     "iopub.execute_input": "2025-03-05T06:26:42.477246Z",
     "iopub.status.busy": "2025-03-05T06:26:42.476958Z",
     "iopub.status.idle": "2025-03-05T06:26:42.497300Z",
     "shell.execute_reply": "2025-03-05T06:26:42.496364Z",
     "shell.execute_reply.started": "2025-03-05T06:26:42.477224Z"
    },
    "trusted": true
   },
   "outputs": [],
   "source": [
    "df.duplicated().sum()"
   ]
  },
  {
   "cell_type": "markdown",
   "metadata": {},
   "source": [
    "**Summary Statistics**"
   ]
  },
  {
   "cell_type": "code",
   "execution_count": null,
   "metadata": {
    "execution": {
     "iopub.execute_input": "2025-03-05T06:26:42.499608Z",
     "iopub.status.busy": "2025-03-05T06:26:42.499225Z",
     "iopub.status.idle": "2025-03-05T06:26:42.568944Z",
     "shell.execute_reply": "2025-03-05T06:26:42.567986Z",
     "shell.execute_reply.started": "2025-03-05T06:26:42.499575Z"
    },
    "trusted": true
   },
   "outputs": [],
   "source": [
    "#Summary Statistics: Numerical variables\n",
    "df.describe()"
   ]
  },
  {
   "cell_type": "code",
   "execution_count": null,
   "metadata": {
    "execution": {
     "iopub.execute_input": "2025-03-05T06:26:42.570309Z",
     "iopub.status.busy": "2025-03-05T06:26:42.569972Z",
     "iopub.status.idle": "2025-03-05T06:26:42.591058Z",
     "shell.execute_reply": "2025-03-05T06:26:42.590003Z",
     "shell.execute_reply.started": "2025-03-05T06:26:42.570278Z"
    },
    "trusted": true
   },
   "outputs": [],
   "source": [
    "#Summary Statistics: Categorical variables\n",
    "df.describe(include = 'object')"
   ]
  },
  {
   "cell_type": "markdown",
   "metadata": {},
   "source": [
    "# Outlier Detection"
   ]
  },
  {
   "cell_type": "code",
   "execution_count": null,
   "metadata": {
    "execution": {
     "iopub.execute_input": "2025-03-05T06:26:42.592582Z",
     "iopub.status.busy": "2025-03-05T06:26:42.592200Z",
     "iopub.status.idle": "2025-03-05T06:26:42.635800Z",
     "shell.execute_reply": "2025-03-05T06:26:42.634767Z",
     "shell.execute_reply.started": "2025-03-05T06:26:42.592545Z"
    },
    "trusted": true
   },
   "outputs": [],
   "source": [
    "def detect_outliers_iqr(df):\n",
    "    outlier_count = {}\n",
    "    for column in df.select_dtypes(include='number'):\n",
    "        Q1 = df[column].quantile(0.25)\n",
    "        Q3 = df[column].quantile(0.75)\n",
    "        IQR = Q3 - Q1\n",
    "        lower_bound = Q1 - 1.5 * IQR\n",
    "        upper_bound = Q3 + 1.5 * IQR\n",
    "        outliers = df[(df[column] < lower_bound) | (df[column] > upper_bound)]\n",
    "        outlier_count[column] = outliers.shape[0]\n",
    "    return outlier_count\n",
    "\n",
    "outliers_iqr = detect_outliers_iqr(df)\n",
    "outliers_df = pd.DataFrame(list(outliers_iqr.items()) , columns=['Column', 'Number of Outliers'])\n",
    "outliers_df"
   ]
  },
  {
   "cell_type": "markdown",
   "metadata": {},
   "source": [
    "# Class Balance"
   ]
  },
  {
   "cell_type": "code",
   "execution_count": null,
   "metadata": {
    "execution": {
     "iopub.execute_input": "2025-03-05T06:26:42.637003Z",
     "iopub.status.busy": "2025-03-05T06:26:42.636751Z",
     "iopub.status.idle": "2025-03-05T06:26:42.878586Z",
     "shell.execute_reply": "2025-03-05T06:26:42.877363Z",
     "shell.execute_reply.started": "2025-03-05T06:26:42.636982Z"
    },
    "trusted": true
   },
   "outputs": [],
   "source": [
    "class_balance = df['churn'].value_counts(normalize=True) * 100\n",
    "print(\"Class Balance in dataFrame (as percentages):\")\n",
    "print(class_balance)\n",
    "\n",
    "#plot the class balance\n",
    "plt.figure(figsize=(6,4))\n",
    "sns.countplot(x='churn' , data=df , palette='viridis')\n",
    "plt.title('Class Distribution of Churn')\n",
    "plt.xlabel('Churn')\n",
    "plt.ylabel('Count')\n",
    "plt.show()"
   ]
  },
  {
   "cell_type": "markdown",
   "metadata": {},
   "source": [
    "Based on initial inspection, we can conclude that:\n",
    "1. There are 3333 observations, each unique (no duplicates and all phone numbers unique), 20 features and 1 target variable(Churn).\n",
    "2. None of the columns have any missing data.\n",
    "3. The data types of all features are correct except \"area code\" which can be seen when we describe the numerical features. Mean \"area code\" doesn't make any sense and hence this data type must be changed in data pre-processing stage.\n",
    "4. Most phone numbers belong to Wyoming (WY) state.\n",
    "5. 3010 out of 3333 (90%) people don't have an international plan and 2411 out of 3333 (72%) don't have a voice mail plan.\n",
    "6. Majority of columns have outliers. We need to handle them so that certain models don't get affected by outliers.\n",
    "7. We have highly imbalanced dataset: 85.5% customers didn't churn while only 14.5% did.\n",
    "\n",
    "Thus:\n",
    "* This is a classification problem.\n",
    "* Use model evaluation criteria other than accuracy (since randomly stating no customer will churn will give us 85.5% accuracy).Metrics like precision, recall, F1-score, ROC-AUC curve will become important.\n",
    "* If identifying churned customers is important, make sure we perform oversampling/undersampling so that our model learns the minority class as well. Not doing this will lead to our model getting biased towards majority class."
   ]
  },
  {
   "cell_type": "markdown",
   "metadata": {},
   "source": [
    "\n",
    "# Data Processing\n",
    "* Handling Missing Data: NOT Required\n",
    "* Handling Duplicate Data: NOT Required\n",
    "* Correct Data Types\n",
    "* Drop features if required"
   ]
  },
  {
   "cell_type": "markdown",
   "metadata": {},
   "source": [
    "# Correct Data Type\n"
   ]
  },
  {
   "cell_type": "code",
   "execution_count": null,
   "metadata": {
    "execution": {
     "iopub.execute_input": "2025-03-05T06:26:42.879991Z",
     "iopub.status.busy": "2025-03-05T06:26:42.879604Z",
     "iopub.status.idle": "2025-03-05T06:26:42.903102Z",
     "shell.execute_reply": "2025-03-05T06:26:42.902168Z",
     "shell.execute_reply.started": "2025-03-05T06:26:42.879954Z"
    },
    "trusted": true
   },
   "outputs": [],
   "source": [
    "#Correct Data type of area code\n",
    "df['area code'] = df['area code'].astype('object')\n",
    "df.describe(include='object')"
   ]
  },
  {
   "cell_type": "markdown",
   "metadata": {},
   "source": [
    "Thus, we can see there are 3 area codes in the dataframe. However, 1655 out of 3333(~50%) belong to area code 415."
   ]
  },
  {
   "cell_type": "markdown",
   "metadata": {},
   "source": [
    "# Drop unwanted features\n",
    "* Q: Will column phone number give us any information and should it be kept or dropped?"
   ]
  },
  {
   "cell_type": "code",
   "execution_count": null,
   "metadata": {
    "execution": {
     "iopub.execute_input": "2025-03-05T06:26:42.904309Z",
     "iopub.status.busy": "2025-03-05T06:26:42.904026Z",
     "iopub.status.idle": "2025-03-05T06:26:42.916399Z",
     "shell.execute_reply": "2025-03-05T06:26:42.915248Z",
     "shell.execute_reply.started": "2025-03-05T06:26:42.904286Z"
    },
    "trusted": true
   },
   "outputs": [],
   "source": [
    "df['phone number'].str.replace('-','').str.len().value_counts()"
   ]
  },
  {
   "cell_type": "markdown",
   "metadata": {},
   "source": [
    "Thus, since every phone number is of same length, this column can't provide us much information and should be dropped."
   ]
  },
  {
   "cell_type": "code",
   "execution_count": null,
   "metadata": {
    "execution": {
     "iopub.execute_input": "2025-03-05T06:26:42.917736Z",
     "iopub.status.busy": "2025-03-05T06:26:42.917343Z",
     "iopub.status.idle": "2025-03-05T06:26:42.957282Z",
     "shell.execute_reply": "2025-03-05T06:26:42.956294Z",
     "shell.execute_reply.started": "2025-03-05T06:26:42.917703Z"
    },
    "trusted": true
   },
   "outputs": [],
   "source": [
    "#Drop the 'phone number' column\n",
    "df = df.drop('phone number',axis=1)\n",
    "df.sample(n=5)"
   ]
  },
  {
   "cell_type": "markdown",
   "metadata": {},
   "source": [
    "# Exploratory Data Analysis (EDA)\n",
    "* Univariate analysis of numerical and categorical features.\n",
    "* Multi-variate analysis to learn any correlations between features.\n",
    "* Explore the relationships between features and the target variable (Churn)."
   ]
  },
  {
   "cell_type": "code",
   "execution_count": null,
   "metadata": {
    "execution": {
     "iopub.execute_input": "2025-03-05T06:26:42.958574Z",
     "iopub.status.busy": "2025-03-05T06:26:42.958262Z",
     "iopub.status.idle": "2025-03-05T06:26:42.971311Z",
     "shell.execute_reply": "2025-03-05T06:26:42.970283Z",
     "shell.execute_reply.started": "2025-03-05T06:26:42.958549Z"
    },
    "trusted": true
   },
   "outputs": [],
   "source": [
    "df.info()"
   ]
  },
  {
   "cell_type": "markdown",
   "metadata": {},
   "source": [
    "# Distribution of numerical features"
   ]
  },
  {
   "cell_type": "code",
   "execution_count": null,
   "metadata": {
    "execution": {
     "iopub.execute_input": "2025-03-05T06:26:42.972675Z",
     "iopub.status.busy": "2025-03-05T06:26:42.972313Z",
     "iopub.status.idle": "2025-03-05T06:26:45.246953Z",
     "shell.execute_reply": "2025-03-05T06:26:45.245976Z",
     "shell.execute_reply.started": "2025-03-05T06:26:42.972642Z"
    },
    "trusted": true
   },
   "outputs": [],
   "source": [
    "numerical_features = df.select_dtypes(include=['float64','int64']).columns\n",
    "\n",
    "fig , axes = plt.subplots(len(numerical_features)//3, 3, figsize=(18,20))\n",
    "palette = sns.color_palette('Set2')\n",
    "for i, col in enumerate(numerical_features):\n",
    "    row , col_idx = divmod(i,3)\n",
    "    sns.violinplot(x=col, data=df, ax=axes[row, col_idx],palette=palette)\n",
    "    axes[row, col_idx].set_title(f'{col} Distribution')\n",
    "    axes[row, col_idx].grid(True)\n",
    "    \n",
    "if len(numerical_features) % 3 != 0:\n",
    "    for j in range(len(numerical_features) % 3,3):\n",
    "        fig.delaxes(axes[-1,j])\n",
    "\n",
    "plt.tight_layout()\n",
    "plt.show()\n",
    "    "
   ]
  },
  {
   "cell_type": "markdown",
   "metadata": {
    "execution": {
     "iopub.execute_input": "2025-02-14T08:50:27.630068Z",
     "iopub.status.busy": "2025-02-14T08:50:27.627664Z",
     "iopub.status.idle": "2025-02-14T08:50:27.648260Z",
     "shell.execute_reply": "2025-02-14T08:50:27.646768Z",
     "shell.execute_reply.started": "2025-02-14T08:50:27.629972Z"
    }
   },
   "source": [
    "We see that out of 15 numerical features, 3 features are not distributed normally, namely:\n",
    "* number vmail messages\n",
    "* total intl calls\n",
    "* customer service calls\n",
    "\n",
    "we can proceed in two ways:\n",
    "1. Leave them as it is. Then only use tree-based models(XGBoost, Random Forest, Light GBM etc)since models like Logistic Regression, LDA, Naive Bayes, SVM etc assume normally distributed features.\n",
    "2. Apply transformations so that we are free to use most of the models.\n",
    "\n",
    "We will be applying transformations in the feature engineering step.\n"
   ]
  },
  {
   "cell_type": "markdown",
   "metadata": {
    "execution": {
     "iopub.execute_input": "2025-02-14T08:53:20.766301Z",
     "iopub.status.busy": "2025-02-14T08:53:20.765775Z",
     "iopub.status.idle": "2025-02-14T08:53:20.773013Z",
     "shell.execute_reply": "2025-02-14T08:53:20.771602Z",
     "shell.execute_reply.started": "2025-02-14T08:53:20.766267Z"
    }
   },
   "source": [
    "# Distribution of categorical features"
   ]
  },
  {
   "cell_type": "code",
   "execution_count": null,
   "metadata": {
    "execution": {
     "iopub.execute_input": "2025-03-05T06:26:45.248118Z",
     "iopub.status.busy": "2025-03-05T06:26:45.247822Z",
     "iopub.status.idle": "2025-03-05T06:26:45.806741Z",
     "shell.execute_reply": "2025-03-05T06:26:45.805825Z",
     "shell.execute_reply.started": "2025-03-05T06:26:45.248094Z"
    },
    "trusted": true
   },
   "outputs": [],
   "source": [
    "categorical_features = df.select_dtypes(include=['object']).columns\n",
    "categorical_features = categorical_features.drop('state')\n",
    "\n",
    "fig , axs = plt.subplots(1,3,figsize=(15,6))\n",
    "axs = axs.flatten()\n",
    "\n",
    "palette = sns.color_palette(\"Set2\")\n",
    "\n",
    "for i , feature in enumerate(categorical_features[:10]):\n",
    "    plot = sns.countplot(x=df[feature],ax=axs[i],order=df[feature].value_counts().index, palette=palette)\n",
    "\n",
    "    for p in plot.patches:\n",
    "        plot.annotate(format(p.get_height(), '.0f'),(p.get_x() + p.get_width() / 2. , p.get_height()), ha ='center' , va = 'center' , xytext = (0 , -9), textcoords = 'offset points')\n",
    "\n",
    "    axs[i].set_title(f'Distribution of {feature}')\n",
    "    axs[i].set_xticklabels(axs[i].get_xticklabels(),rotation=45,horizontalalignment='right')\n",
    "\n",
    "for j in range(i + 1, len(axs)):\n",
    "    fig.delaxes(axs[j])\n",
    "\n",
    "plt.tight_layout()\n",
    "plt.show()\n"
   ]
  },
  {
   "cell_type": "markdown",
   "metadata": {},
   "source": [
    "# Correlation Matrix & Pairplot for Numerical Features"
   ]
  },
  {
   "cell_type": "code",
   "execution_count": null,
   "metadata": {
    "execution": {
     "iopub.execute_input": "2025-03-05T07:05:08.308790Z",
     "iopub.status.busy": "2025-03-05T07:05:08.308398Z",
     "iopub.status.idle": "2025-03-05T07:05:09.077415Z",
     "shell.execute_reply": "2025-03-05T07:05:09.076398Z",
     "shell.execute_reply.started": "2025-03-05T07:05:08.308760Z"
    },
    "trusted": true
   },
   "outputs": [],
   "source": [
    "#correlation of numerical variables\n",
    "pearson_correlation_matrix = df[numerical_features].corr(method = 'pearson')\n",
    "\n",
    "plt.figure(figsize=(11,8))\n",
    "sns.heatmap(pearson_correlation_matrix, annot=True, fmt=\".2f\",cmap='Dark2',linewidths=0.5)\n",
    "\n",
    "plt.title('Pearson Correlation Matrix of Numerical Features')\n",
    "plt.show()"
   ]
  },
  {
   "cell_type": "code",
   "execution_count": null,
   "metadata": {
    "execution": {
     "iopub.status.busy": "2025-03-05T06:26:45.815117Z",
     "iopub.status.idle": "2025-03-05T06:26:45.815586Z",
     "shell.execute_reply": "2025-03-05T06:26:45.815367Z"
    },
    "trusted": true
   },
   "outputs": [],
   "source": [
    "palette = sns.color_palette(\"Set2\")\n",
    "plt.figure(figsize=(12,8))\n",
    "\n",
    "def below_diag_pairplot(data,variables):\n",
    "    data = data.copy()  \n",
    "    data.replace([np.inf, -np.inf], np.nan, inplace=True)\n",
    "    pd.set_option('future.no_silent_downcasting', True)\n",
    "\n",
    "    \n",
    "    g = sns.PairGrid(data[variables])\n",
    "    g.map_lower(sns.scatterplot, s=15, color='skyblue')\n",
    "    g.map_diag(sns.histplot, color='lightcoral', kde=True, palette = palette)\n",
    "\n",
    "    for i , j in zip(*np.triu_indices_from(g.axes, 1)):\n",
    "        g.axes[i,j].set_visible(False)\n",
    "    plt.show()\n",
    "below_diag_pairplot(df,numerical_features)"
   ]
  },
  {
   "cell_type": "markdown",
   "metadata": {},
   "source": [
    "# Association Matrix of Categorical Features"
   ]
  },
  {
   "cell_type": "code",
   "execution_count": null,
   "metadata": {
    "execution": {
     "iopub.execute_input": "2025-03-05T07:01:16.630087Z",
     "iopub.status.busy": "2025-03-05T07:01:16.629769Z",
     "iopub.status.idle": "2025-03-05T07:01:16.898946Z",
     "shell.execute_reply": "2025-03-05T07:01:16.897946Z",
     "shell.execute_reply.started": "2025-03-05T07:01:16.630061Z"
    },
    "trusted": true
   },
   "outputs": [],
   "source": [
    "from scipy.stats import chi2_contingency\n",
    "\n",
    "def cramers_v(x,y):\n",
    "    confusion_matrix = pd.crosstab(x,y)\n",
    "    chi2 = chi2_contingency(confusion_matrix)[0]\n",
    "    n = confusion_matrix.sum().sum()\n",
    "    r , k = confusion_matrix.shape\n",
    "    return np.sqrt(chi2 / (n * (min(r,k) - 1)))\n",
    "\n",
    "cramers_v_matrix = pd.DataFrame(np.zeros((len(categorical_features), len(categorical_features))), index=categorical_features, columns=categorical_features)\n",
    "\n",
    "for col1 in categorical_features:\n",
    "    for col2 in categorical_features:\n",
    "        if col1 != col2:\n",
    "            cramers_v_matrix.loc[col1 , col2] = cramers_v(df[col1],df[col2])\n",
    "        else:\n",
    "            cramers_v_matrix.loc[col1 , col2] = np.nan\n",
    "\n",
    "plt.figure(figsize = (6,5))\n",
    "sns.heatmap(cramers_v_matrix, annot=True, cmap='Dark2', linewidths=0.5, fmt='.2f', cbar_kws={\"shrink\": .75})\n",
    "plt.title(\"Cramer's V Association Matrix of Categorical Features\")\n",
    "plt.show()\n"
   ]
  },
  {
   "cell_type": "markdown",
   "metadata": {},
   "source": [
    "We can see that we have few numerical features that are highly correlated:\n",
    "* total day minutes & total day charge(100%)\n",
    "* total eve minutes & total eve charge (100%)\n",
    "* total night minutes & total night charge(100%)\n",
    "* total intl minutes & total intl charge (100%)\n",
    "\n",
    "we need to exclude some to avoid multi-collinearity. This will be done in *Feature selection* step."
   ]
  },
  {
   "cell_type": "markdown",
   "metadata": {},
   "source": [
    "# *Correlation of Features with Churn (Target Variable)*"
   ]
  },
  {
   "cell_type": "code",
   "execution_count": null,
   "metadata": {
    "execution": {
     "iopub.execute_input": "2025-03-05T07:16:19.137494Z",
     "iopub.status.busy": "2025-03-05T07:16:19.137132Z",
     "iopub.status.idle": "2025-03-05T07:16:21.992698Z",
     "shell.execute_reply": "2025-03-05T07:16:21.991683Z",
     "shell.execute_reply.started": "2025-03-05T07:16:19.137452Z"
    },
    "trusted": true
   },
   "outputs": [],
   "source": [
    "#Correlation of Numerical Features\n",
    "plt.figure(figsize=(18,25))\n",
    "for i , col in enumerate(numerical_features):\n",
    "    plt.subplot(5,3,i+1)\n",
    "    sns.boxplot(x='churn', y=col, data=df, palette=palette)\n",
    "    plt.title(f'{col} vs Churn')\n",
    "    plt.grid(True)\n",
    "\n",
    "plt.tight_layout()\n",
    "plt.show()"
   ]
  },
  {
   "cell_type": "code",
   "execution_count": null,
   "metadata": {
    "execution": {
     "iopub.execute_input": "2025-03-05T08:09:15.758258Z",
     "iopub.status.busy": "2025-03-05T08:09:15.757937Z",
     "iopub.status.idle": "2025-03-05T08:09:16.388256Z",
     "shell.execute_reply": "2025-03-05T08:09:16.387263Z",
     "shell.execute_reply.started": "2025-03-05T08:09:15.758233Z"
    },
    "trusted": true
   },
   "outputs": [],
   "source": [
    "#categorical features and churn\n",
    "churn_col = 'churn' #This should be the column indicating churn (True for churned, False for not churned)\n",
    "plt.figure(figsize=(18,6))\n",
    "\n",
    "for i , col in enumerate(categorical_features):\n",
    "    plt.subplot(1, 3, i + 1)\n",
    "\n",
    "    #calculate churn counts for each category\n",
    "    churn_counts = df.groupby(col)[churn_col].value_counts(normalize=True).unstack()\n",
    "\n",
    "    #calculate churn percentage (Percentage of True values)\n",
    "    churn_counts['churn_percentage'] = churn_counts[True] * 100 #using True insted of 1\n",
    "    \n",
    "    #Resetting index for plotting\n",
    "    churn_counts = churn_counts.reset_index()\n",
    "\n",
    "    #Plotting\n",
    "    ax = sns.barplot(x=col, y='churn_percentage',data=churn_counts, color='#FC8D62')\n",
    "\n",
    "    plt.title(f'Churn Percentage by {col}')\n",
    "    plt.xlabel(col)\n",
    "    plt.ylabel('Churn Percentage')\n",
    "    plt.xticks(rotation=45)\n",
    "\n",
    "    #Adding percentages below the bars\n",
    "    for p in ax.patches:\n",
    "        percentage = f'{p.get_height():.2f}' #Format percentage to 2 decimal places\n",
    "        ax.annotate(percentage, (p.get_x() + p.get_width() / 2., p.get_height()), ha='center' , va='bottom',fontsize=11, color='black', xytext=(0,-10), textcoords='offset points')\n",
    "\n",
    "plt.tight_layout()\n",
    "plt.show()"
   ]
  },
  {
   "cell_type": "markdown",
   "metadata": {},
   "source": [
    "We can see that in numerical features, the following could be good predictors of churn:\n",
    "\n",
    "* total day minutes\n",
    "* total day charge (Churned customers have very high charges)\n",
    "* total eve minutes\n",
    "* total eve charge (Churned customers have moderately high charges)\n",
    "* customer service calls (Churned customers have higher calls)\n",
    "\n",
    "In categorical features, the following could be good predictors:\n",
    "\n",
    "* Having international plan (4x more churn than NOT having)\n",
    "* Having Voice mail plan (Half churn rate comapred to NOT having)"
   ]
  },
  {
   "cell_type": "code",
   "execution_count": null,
   "metadata": {
    "trusted": true
   },
   "outputs": [],
   "source": []
  }
 ],
 "metadata": {
  "kaggle": {
   "accelerator": "none",
   "dataSources": [
    {
     "datasetId": 6566535,
     "sourceId": 10607553,
     "sourceType": "datasetVersion"
    }
   ],
   "dockerImageVersionId": 30839,
   "isGpuEnabled": false,
   "isInternetEnabled": false,
   "language": "python",
   "sourceType": "notebook"
  },
  "kernelspec": {
   "display_name": "Python 3",
   "language": "python",
   "name": "python3"
  },
  "language_info": {
   "codemirror_mode": {
    "name": "ipython",
    "version": 3
   },
   "file_extension": ".py",
   "mimetype": "text/x-python",
   "name": "python",
   "nbconvert_exporter": "python",
   "pygments_lexer": "ipython3",
   "version": "3.10.12"
  }
 },
 "nbformat": 4,
 "nbformat_minor": 4
}
